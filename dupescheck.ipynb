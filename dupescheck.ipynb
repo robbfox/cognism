{
 "cells": [
  {
   "cell_type": "code",
   "execution_count": 29,
   "id": "a9d7bddb-2a74-4e58-867c-7a3fe2f4c974",
   "metadata": {
    "scrolled": true
   },
   "outputs": [
    {
     "name": "stdout",
     "output_type": "stream",
     "text": [
      "Workbook with de-duplicated sheets saved to: (RF)deduplicated_workbook_with_sheets.xlsx\n"
     ]
    }
   ],
   "source": []
  },
  {
   "cell_type": "code",
   "execution_count": null,
   "id": "35bd586e-4edf-4871-b459-775e3f799a42",
   "metadata": {},
   "outputs": [],
   "source": []
  },
  {
   "cell_type": "code",
   "execution_count": 36,
   "id": "be2a35a0-dbcc-44ad-8360-1eda3af377e1",
   "metadata": {},
   "outputs": [
    {
     "name": "stdout",
     "output_type": "stream",
     "text": [
      "De-duplication process completed.\n"
     ]
    }
   ],
   "source": [
    "import pandas as pd\n",
    "import glob\n",
    "import os\n",
    "\n",
    "# Directory containing your CSV files\n",
    "csv_directory = ''\n",
    "\n",
    "# Get a list of all CSV files in the directory\n",
    "csv_files = glob.glob(os.path.join(csv_directory, '*.csv'))\n",
    "\n",
    "# List to store individual DataFrames\n",
    "dfs = []\n",
    "\n",
    "# Read each CSV file and store it in the list\n",
    "for file in csv_files:\n",
    "    df = pd.read_csv(file)\n",
    "    dfs.append(df)\n",
    "\n",
    "# Concatenate all DataFrames into a single DataFrame\n",
    "concat_df = pd.concat(dfs, ignore_index=True)\n",
    "\n",
    "# Remove duplicates in the concatenated DataFrame\n",
    "concat_df = concat_df.drop_duplicates()\n",
    "\n",
    "# Process each file to remove duplicates\n",
    "for file in csv_files:\n",
    "    df = pd.read_csv(file)\n",
    "    # Merge with concatenated DataFrame and keep only non-duplicates\n",
    "    de_duplicated_df = df[~df.isin(concat_df).all(axis=1)]\n",
    "    # Save the de-duplicated DataFrame back to a CSV file\n",
    "    output_file = os.path.join(csv_directory, 'deduplicated_' + os.path.basename(file))\n",
    "    de_duplicated_df.to_csv(output_file, index=False)\n",
    "\n",
    "print(\"De-duplication process completed.\")\n"
   ]
  },
  {
   "cell_type": "code",
   "execution_count": null,
   "id": "c815e884-a057-4e07-8a81-bd56aef3d5a0",
   "metadata": {},
   "outputs": [],
   "source": []
  }
 ],
 "metadata": {
  "kernelspec": {
   "display_name": "Python 3 (ipykernel)",
   "language": "python",
   "name": "python3"
  },
  "language_info": {
   "codemirror_mode": {
    "name": "ipython",
    "version": 3
   },
   "file_extension": ".py",
   "mimetype": "text/x-python",
   "name": "python",
   "nbconvert_exporter": "python",
   "pygments_lexer": "ipython3",
   "version": "3.12.4"
  }
 },
 "nbformat": 4,
 "nbformat_minor": 5
}
