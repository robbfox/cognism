{
 "cells": [
  {
   "cell_type": "code",
   "execution_count": 11,
   "id": "614fde3e-338a-485b-88ca-b18369b0ff65",
   "metadata": {},
   "outputs": [
    {
     "name": "stdout",
     "output_type": "stream",
     "text": [
      "Processed data has been saved to RPA_output_file.csv\n"
     ]
    }
   ],
   "source": [
    "import pandas as pd\n",
    "\n",
    "# Define input and output file paths\n",
    "input_csv_path = '(RF) Lloyds RPA.csv'  # Update this with the path to your input CSV\n",
    "output_csv_path = 'RPA_output_file.csv'  # Update this with the path to your output CSV\n",
    "\n",
    "# Step 1: Read the CSV file into a DataFrame\n",
    "df = pd.read_csv(input_csv_path)\n",
    "\n",
    "# Step 2: Function to fill 'Direct' with 'Office' or 'HQ' if 'Direct' is empty\n",
    "def fill_direct(row):\n",
    "    if pd.isna(row['Direct']) or row['Direct'] == '':\n",
    "        if not pd.isna(row['Office']) and row['Office'] != '':\n",
    "            return row['Office']\n",
    "        elif not pd.isna(row['HQ']) and row['HQ'] != '':\n",
    "            return row['HQ']\n",
    "    return row['Direct']\n",
    "\n",
    "# Step 3: Apply the function to each row\n",
    "df['Direct'] = df.apply(fill_direct, axis=1)\n",
    "\n",
    "# Step 4: Drop the 'Office' and 'HQ' columns\n",
    "df.drop(columns=['Office', 'HQ'], inplace=True)\n",
    "\n",
    "# Step 5: Save the modified DataFrame to a new CSV file\n",
    "df.to_csv(output_csv_path, index=False)\n",
    "\n",
    "print(f\"Processed data has been saved to {output_csv_path}\")\n"
   ]
  },
  {
   "cell_type": "code",
   "execution_count": null,
   "id": "13077cd1-8227-4591-ac0b-c646dec5c57f",
   "metadata": {},
   "outputs": [],
   "source": []
  }
 ],
 "metadata": {
  "kernelspec": {
   "display_name": "Python 3 (ipykernel)",
   "language": "python",
   "name": "python3"
  },
  "language_info": {
   "codemirror_mode": {
    "name": "ipython",
    "version": 3
   },
   "file_extension": ".py",
   "mimetype": "text/x-python",
   "name": "python",
   "nbconvert_exporter": "python",
   "pygments_lexer": "ipython3",
   "version": "3.12.4"
  }
 },
 "nbformat": 4,
 "nbformat_minor": 5
}
