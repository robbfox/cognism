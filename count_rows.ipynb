{
 "cells": [
  {
   "cell_type": "code",
   "execution_count": null,
   "id": "fb557993-78d3-4c97-91ac-8b70b2dc6a67",
   "metadata": {},
   "outputs": [],
   "source": [
    "# Import required libraries\n",
    "import pandas as pd\n",
    "\n",
    "# Function to count total rows across all sheets\n",
    "def count_total_rows(excel_file):\n",
    "    # Read the entire Excel workbook\n",
    "    sheets = pd.read_excel(excel_file, sheet_name=None)\n",
    "\n",
    "    # Initialize a counter for total rows\n",
    "    total_rows = 0\n",
    "\n",
    "    # Iterate through each sheet\n",
    "    for sheet_name, df in sheets.items():\n",
    "        # Count the number of rows excluding the header\n",
    "        row_count = len(df)\n",
    "        total_rows += row_count\n",
    "\n",
    "    return total_rows\n",
    "\n",
    "# Path to the Excel file\n",
    "excel_file_path = 'path/to/your/excel_file.xlsx'\n",
    "\n",
    "# Get the total number of rows\n",
    "total_rows = count_total_rows(excel_file_path)\n",
    "\n",
    "# Print the total number of rows\n",
    "print(f'Total number of data rows (excluding headers): {total_rows}')\n"
   ]
  }
 ],
 "metadata": {
  "kernelspec": {
   "display_name": "Python 3 (ipykernel)",
   "language": "python",
   "name": "python3"
  },
  "language_info": {
   "codemirror_mode": {
    "name": "ipython",
    "version": 3
   },
   "file_extension": ".py",
   "mimetype": "text/x-python",
   "name": "python",
   "nbconvert_exporter": "python",
   "pygments_lexer": "ipython3",
   "version": "3.12.4"
  }
 },
 "nbformat": 4,
 "nbformat_minor": 5
}
